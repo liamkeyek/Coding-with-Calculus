{
 "cells": [
  {
   "cell_type": "markdown",
   "id": "b0aad041-6c1c-4214-9c84-969d5282e6d8",
   "metadata": {},
   "source": [
    "# 5)"
   ]
  },
  {
   "cell_type": "code",
   "execution_count": 51,
   "id": "4970f3f5-aaf8-426d-af97-3412a15ef8fb",
   "metadata": {},
   "outputs": [
    {
     "name": "stdout",
     "output_type": "stream",
     "text": [
      "\n",
      "Starting point: -10\n",
      "Root found: -5.0000000000\n",
      "Iterations: 5\n",
      "\n",
      "Starting point: -1\n",
      "Root found: -5.0000000000\n",
      "Iterations: 7\n",
      "\n",
      "Starting point: 0\n",
      "Root found: 4.0000000000\n",
      "Iterations: 7\n",
      "\n",
      "Starting point: 1\n",
      "Root found: 4.0000000000\n",
      "Iterations: 6\n",
      "\n",
      "Starting point: 10\n",
      "Root found: 4.0000000000\n",
      "Iterations: 5\n"
     ]
    }
   ],
   "source": [
    "import numpy as np\n",
    "\n",
    "def f(x):\n",
    "    return (x**2 / 4) + (x / 4) - 5\n",
    "\n",
    "def f_prime(x):\n",
    "    return (x / 2) + (1 / 4)\n",
    "\n",
    "def newtons_method(start, tol=1e-10, max_iter=100):\n",
    "    x = start\n",
    "    \n",
    "    for i in range(max_iter):\n",
    "        fx = f(x)\n",
    "        fpx = f_prime(x)\n",
    "        \n",
    "        if abs(fpx) < 1e-8:\n",
    "            return f\"Derivative too small at iteration {i}, method failed.\"\n",
    "        \n",
    "        x_new = x - fx / fpx\n",
    "        \n",
    "        if abs(x_new - x) < tol:\n",
    "            if abs(f(x_new)) < tol * 100:\n",
    "                return x_new, i\n",
    "            return f\"Method converged but did not find a root. Last value: {x_new}\"\n",
    "        \n",
    "        x = x_new\n",
    "    \n",
    "    return f\"Method did not converge after {max_iter} iterations.\"\n",
    "\n",
    "start_points = [-10, -1, 0, 1, 10]\n",
    "for start in start_points:\n",
    "    result = newtons_method(start)\n",
    "    print(f\"\\nStarting point: {start}\")\n",
    "    if isinstance(result, tuple):\n",
    "        root, iterations = result\n",
    "        print(f\"Root found: {root:.10f}\")\n",
    "        print(f\"Iterations: {iterations}\")\n",
    "    else:\n",
    "        print(result)"
   ]
  },
  {
   "cell_type": "markdown",
   "id": "7e48a81c-952a-46fb-b01e-b0c514e09e81",
   "metadata": {},
   "source": [
    "# 6)"
   ]
  },
  {
   "cell_type": "code",
   "execution_count": 52,
   "id": "5ed15682-a00b-421e-862a-740d84ac7653",
   "metadata": {},
   "outputs": [
    {
     "name": "stdout",
     "output_type": "stream",
     "text": [
      "\n",
      "Starting point: 2\n",
      "Root found: 4.0000000000\n",
      "Iterations: 5\n"
     ]
    }
   ],
   "source": [
    "start_points = [2]\n",
    "for start in start_points:\n",
    "    result = newtons_method(start)\n",
    "    print(f\"\\nStarting point: {start}\")\n",
    "    if isinstance(result, tuple):\n",
    "        root, iterations = result\n",
    "        print(f\"Root found: {root:.10f}\")\n",
    "        print(f\"Iterations: {iterations}\")\n",
    "    else:\n",
    "        print(result)"
   ]
  },
  {
   "cell_type": "code",
   "execution_count": 53,
   "id": "d69b3b6f-5cd3-4262-8591-1fbbbf44fda5",
   "metadata": {},
   "outputs": [
    {
     "name": "stdout",
     "output_type": "stream",
     "text": [
      "\n",
      "Starting point: -2\n",
      "Root found: -5.0000000000\n",
      "Iterations: 6\n"
     ]
    }
   ],
   "source": [
    "start_points = [-2]\n",
    "for start in start_points:\n",
    "    result = newtons_method(start)\n",
    "    print(f\"\\nStarting point: {start}\")\n",
    "    if isinstance(result, tuple):\n",
    "        root, iterations = result\n",
    "        print(f\"Root found: {root:.10f}\")\n",
    "        print(f\"Iterations: {iterations}\")\n",
    "    else:\n",
    "        print(result)"
   ]
  },
  {
   "cell_type": "markdown",
   "id": "89e8da6c-685b-482e-a51c-ba13cd398614",
   "metadata": {},
   "source": [
    "# 7)"
   ]
  },
  {
   "cell_type": "code",
   "execution_count": 54,
   "id": "f48f4894-8867-4b32-879c-0e9c42aa66b5",
   "metadata": {},
   "outputs": [
    {
     "name": "stdout",
     "output_type": "stream",
     "text": [
      "\n",
      "Starting point: -0.5\n",
      "Derivative too small at iteration 0, method failed.\n"
     ]
    }
   ],
   "source": [
    "start_points = [-0.5]\n",
    "for start in start_points:\n",
    "    result = newtons_method(start)\n",
    "    print(f\"\\nStarting point: {start}\")\n",
    "    if isinstance(result, tuple):\n",
    "        root, iterations = result\n",
    "        print(f\"Root found: {root:.10f}\")\n",
    "        print(f\"Iterations: {iterations}\")\n",
    "    else:\n",
    "        print(result)"
   ]
  },
  {
   "cell_type": "markdown",
   "id": "ebc8657e-5a4c-4bdc-8223-cfd12656ed3e",
   "metadata": {},
   "source": [
    "A starting value of x = -0.5 results in an error for Newton's method. This error occurs because at x = -0.5, f'(x) = x/2 + 1/4 = (-0.5/2) + 1/4 = 0. Since Newton's method uses f(x)/f'(x), this causes division by zero. My code catches this by checking if the derivative is too small (< 1e-8) and returns an error message."
   ]
  },
  {
   "cell_type": "markdown",
   "id": "6075060f-4718-40bb-b093-e11b0a5cbd07",
   "metadata": {},
   "source": [
    "# 8)"
   ]
  },
  {
   "cell_type": "code",
   "execution_count": 55,
   "id": "7e12a5d8-8421-4003-b3ad-fdf6f7d51f66",
   "metadata": {},
   "outputs": [
    {
     "data": {
      "image/png": "[encoded data removed]",
      "text/plain": [
       "<Figure size 640x480 with 1 Axes>"
      ]
     },
     "metadata": {},
     "output_type": "display_data"
    }
   ],
   "source": [
    "import matplotlib.pyplot as plt\n",
    "import matplotlib.cm as cm  # For color maps\n",
    "\n",
    "def Newton_Graph(start):\n",
    "    \n",
    "    steps = 8\n",
    "    x = start\n",
    "    window = 10\n",
    "\n",
    "    x_vals = np.linspace(x - window, x + window, 100)\n",
    "    y_vals = f(x_vals)\n",
    "\n",
    "    cmap = cm.get_cmap('viridis', steps)\n",
    "\n",
    "    plt.plot(x_vals, y_vals, label=\"Function\", color='blue')\n",
    "\n",
    "    for n in range(steps):\n",
    "        f_x = f(x)\n",
    "        f_prime_x = f_prime(x)\n",
    "\n",
    "        tangent_y = f_x + (f_prime_x * (x_vals - x))\n",
    "        \n",
    "        plt.plot(x_vals, tangent_y, color=cmap(n), label=f\"Tangent at x={x:.3f}\", linestyle='--')\n",
    "\n",
    "        plt.scatter(x, f_x, color=cmap(n), label=f\"Point ({x:.3f}, {f_x:.3f})\", zorder=5)\n",
    "        \n",
    "        x = x - f_x / f_prime_x\n",
    "\n",
    "    plt.axhline(0, color='black', lw=1)\n",
    "    plt.axvline(0, color='black', lw=1)\n",
    "    plt.title(\"Newton's Method for Finding a Root\")\n",
    "    plt.xlabel(\"x\")\n",
    "    plt.ylabel(\"f(x)\")\n",
    "    plt.grid(True)\n",
    "\n",
    "    plt.show()\n",
    "\n",
    "Newton_Graph(8)\n"
   ]
  },
  {
   "cell_type": "markdown",
   "id": "e2979f98-e1b5-479b-9710-eca2faffd237",
   "metadata": {},
   "source": []
  },
  {
   "cell_type": "code",
   "execution_count": null,
   "id": "9eb8ceba-2f21-45ac-9595-6002c78b8336",
   "metadata": {},
   "outputs": [],
   "source": []
  }
 ],
 "metadata": {
  "kernelspec": {
   "display_name": "Python 3 (ipykernel)",
   "language": "python",
   "name": "python3"
  },
  "language_info": {
   "codemirror_mode": {
    "name": "ipython",
    "version": 3
   },
   "file_extension": ".py",
   "mimetype": "text/x-python",
   "name": "python",
   "nbconvert_exporter": "python",
   "pygments_lexer": "ipython3",
   "version": "3.10.8"
  }
 },
 "nbformat": 4,
 "nbformat_minor": 5
}
